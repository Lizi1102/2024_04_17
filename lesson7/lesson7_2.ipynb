{
 "cells": [
  {
   "cell_type": "code",
   "execution_count": 10,
   "metadata": {},
   "outputs": [
    {
     "name": "stdout",
     "output_type": "stream",
     "text": [
      "請輸入這個月存的金額:5000\n",
      "請輸入這個月存的金額:5000\n",
      "請輸入這個月存的金額:6000\n",
      "請輸入這個月存的金額:7000\n",
      "請輸入這個月存的金額:8000\n",
      "最後一次存的金額是:8000\n",
      "小明已經存了31000\n"
     ]
    }
   ],
   "source": [
    "#小明想要存錢買一輛機車,機車每輛30000元,他將每個月存的錢輸入,當存款族購買機車時,就顯示提示訊息告知\n",
    "\n",
    "import pyinputplus as pyip\n",
    "deposit = 0\n",
    "while deposit < 30000:\n",
    "    input_money = pyip.inputInt('請輸入這個月存的金額:')\n",
    "    print(input_money)\n",
    "    deposit += input_money\n",
    "print(f'最後一次存的金額是:{input_money}')\n",
    "print(f'小明已經存了{deposit}')"
   ]
  }
 ],
 "metadata": {
  "kernelspec": {
   "display_name": "Python 3",
   "language": "python",
   "name": "python3"
  },
  "language_info": {
   "codemirror_mode": {
    "name": "ipython",
    "version": 3
   },
   "file_extension": ".py",
   "mimetype": "text/x-python",
   "name": "python",
   "nbconvert_exporter": "python",
   "pygments_lexer": "ipython3",
   "version": "3.10.14"
  }
 },
 "nbformat": 4,
 "nbformat_minor": 2
}
