{
 "cells": [
  {
   "cell_type": "code",
   "execution_count": 2,
   "metadata": {},
   "outputs": [
    {
     "name": "stdout",
     "output_type": "stream",
     "text": [
      "1加到10=62\n"
     ]
    }
   ],
   "source": [
    "#1~10的結果\n",
    "\n",
    "total = 0\n",
    "total += 1\n",
    "total += 2\n",
    "total += 3\n",
    "total += 4\n",
    "total += 5\n",
    "total += 6\n",
    "total += 7\n",
    "total += 7\n",
    "total += 8\n",
    "total += 9\n",
    "total += 10\n",
    "\n",
    "print(f'1加到10={total}')"
   ]
  },
  {
   "cell_type": "code",
   "execution_count": 7,
   "metadata": {},
   "outputs": [
    {
     "name": "stdout",
     "output_type": "stream",
     "text": [
      "0\n",
      "1\n",
      "2\n",
      "3\n",
      "4\n"
     ]
    }
   ],
   "source": [
    "for i in range(5):\n",
    "    print(i)"
   ]
  },
  {
   "cell_type": "code",
   "execution_count": 8,
   "metadata": {},
   "outputs": [
    {
     "name": "stdout",
     "output_type": "stream",
     "text": [
      "1  2  3  4  5  6  7  8  9  "
     ]
    }
   ],
   "source": [
    "for i in range(1,10):\n",
    "    print(i,end=\"  \")"
   ]
  },
  {
   "cell_type": "code",
   "execution_count": 21,
   "metadata": {},
   "outputs": [
    {
     "name": "stdout",
     "output_type": "stream",
     "text": [
      "10  9  8  7  6  5  4  3  2  1  "
     ]
    }
   ],
   "source": [
    "for i in range(10,0,-1):\n",
    "    print(i,end=\"  \")"
   ]
  },
  {
   "cell_type": "code",
   "execution_count": 14,
   "metadata": {},
   "outputs": [
    {
     "name": "stdout",
     "output_type": "stream",
     "text": [
      "1  3  5  7  9  "
     ]
    }
   ],
   "source": [
    "for i in range(1,10,2):\n",
    "    print(i,end=\"  \")"
   ]
  },
  {
   "cell_type": "code",
   "execution_count": 16,
   "metadata": {},
   "outputs": [
    {
     "name": "stdout",
     "output_type": "stream",
     "text": [
      "1加到10=55\n"
     ]
    }
   ],
   "source": [
    "total = 0\n",
    "for i in range(1,11):\n",
    "    total += i\n",
    "\n",
    "print(f'1加到10={total}')"
   ]
  },
  {
   "cell_type": "code",
   "execution_count": 18,
   "metadata": {},
   "outputs": [
    {
     "name": "stdout",
     "output_type": "stream",
     "text": [
      "1加到10=1\n",
      "1加到10=3\n",
      "1加到10=6\n",
      "1加到10=10\n",
      "1加到10=15\n",
      "1加到10=21\n",
      "1加到10=28\n",
      "1加到10=36\n",
      "1加到10=45\n",
      "1加到10=55\n"
     ]
    }
   ],
   "source": [
    "total = 0\n",
    "for i in range(1,11):\n",
    "    total += i\n",
    "    print(f'1加到10={total}')"
   ]
  },
  {
   "cell_type": "code",
   "execution_count": 29,
   "metadata": {},
   "outputs": [
    {
     "name": "stdout",
     "output_type": "stream",
     "text": [
      "1加到10=10\n",
      "1加到10=19\n",
      "1加到10=27\n",
      "1加到10=34\n",
      "1加到10=40\n",
      "1加到10=45\n",
      "1加到10=49\n",
      "1加到10=52\n",
      "1加到10=54\n",
      "1加到10=55\n"
     ]
    }
   ],
   "source": [
    "total = 0\n",
    "for i in range(10,0,-1):\n",
    "    total += i\n",
    "    print(f'1加到10={total}')"
   ]
  },
  {
   "cell_type": "code",
   "execution_count": 30,
   "metadata": {},
   "outputs": [
    {
     "name": "stdout",
     "output_type": "stream",
     "text": [
      "1加到10=55\n"
     ]
    }
   ],
   "source": [
    "total = 0\n",
    "for i in range(10,0,-1):\n",
    "    total += i\n",
    "print(f'1加到10={total}')"
   ]
  },
  {
   "cell_type": "code",
   "execution_count": 27,
   "metadata": {},
   "outputs": [
    {
     "name": "stdout",
     "output_type": "stream",
     "text": [
      "請輸入1加到?(最大到1000,最小為10):Number must be at minimum 10.\n",
      "請輸入1加到?(最大到1000,最小為10):Number must be at minimum 10.\n",
      "請輸入1加到?(最大到1000,最小為10):Number must be at maximum 1000.\n",
      "請輸入1加到?(最大到1000,最小為10):800\n",
      "1...800:320410\n"
     ]
    }
   ],
   "source": [
    "import pyinputplus as pyip\n",
    "n = pyip.inputInt('請輸入1加到?(最大到1000,最小為10):',min=10,max=1000)\n",
    "print(n)\n",
    "total = 10\n",
    "for i in range(1,n+1):\n",
    "    total += i\n",
    "print(f'1...{n}:{total}')\n",
    "    "
   ]
  }
 ],
 "metadata": {
  "kernelspec": {
   "display_name": "Python 3",
   "language": "python",
   "name": "python3"
  },
  "language_info": {
   "codemirror_mode": {
    "name": "ipython",
    "version": 3
   },
   "file_extension": ".py",
   "mimetype": "text/x-python",
   "name": "python",
   "nbconvert_exporter": "python",
   "pygments_lexer": "ipython3",
   "version": "3.10.14"
  }
 },
 "nbformat": 4,
 "nbformat_minor": 2
}
