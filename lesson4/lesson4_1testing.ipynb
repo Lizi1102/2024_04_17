{
 "cells": [
  {
   "cell_type": "markdown",
   "metadata": {},
   "source": [
    "# 輸入:(可輸入整數和浮點數)\n",
    "- 請輸入梯形的上底(公分):\n",
    "- 請輸入梯形的下底(公分):\n",
    "- 請輸入梯形的高(公分):"
   ]
  },
  {
   "cell_type": "markdown",
   "metadata": {},
   "source": [
    "# 輸出:\n",
    "- 梯形的上底xx公分，下底XX公分，高XX公分\n",
    "- 梯形的面積XXX公分"
   ]
  },
  {
   "cell_type": "code",
   "execution_count": 8,
   "metadata": {},
   "outputs": [
    {
     "name": "stdout",
     "output_type": "stream",
     "text": [
      "梯形的上底3.1公分，梯形的下底3.2公分，梯形的高3.3公分\n",
      "梯形的面積10.395公分\n"
     ]
    }
   ],
   "source": [
    "n1 = eval(input('請輸入梯形的上底:'))\n",
    "n2 = eval(input('請輸入梯形的下底:'))\n",
    "n3 = eval(input('請輸入梯形的高:'))\n",
    "area = (( n1 + n2) * n3) / 2\n",
    "print(f'梯形的上底{n1}公分，梯形的下底{n2}公分，梯形的高{n3}公分')\n",
    "print(f'梯形的面積{round(area,ndigits=3)}公分')"
   ]
  },
  {
   "cell_type": "code",
   "execution_count": 7,
   "metadata": {},
   "outputs": [
    {
     "name": "stdout",
     "output_type": "stream",
     "text": [
      "梯形的上底3.1公分，梯形的下底3.2公分，梯形的高3.3公分\n",
      "梯形的面積10.395000000000001公分\n"
     ]
    }
   ],
   "source": [
    "n1 = eval(input('請輸入梯形的上底:'))\n",
    "n2 = eval(input('請輸入梯形的下底:'))\n",
    "n3 = eval(input('請輸入梯形的高:'))\n",
    "area = (( n1 + n2) * n3) / 2\n",
    "print(f'梯形的上底{n1}公分，梯形的下底{n2}公分，梯形的高{n3}公分')\n",
    "print(f'梯形的面積{area}公分')"
   ]
  }
 ],
 "metadata": {
  "kernelspec": {
   "display_name": "Python 3",
   "language": "python",
   "name": "python3"
  },
  "language_info": {
   "codemirror_mode": {
    "name": "ipython",
    "version": 3
   },
   "file_extension": ".py",
   "mimetype": "text/x-python",
   "name": "python",
   "nbconvert_exporter": "python",
   "pygments_lexer": "ipython3",
   "version": "3.10.14"
  }
 },
 "nbformat": 4,
 "nbformat_minor": 2
}
