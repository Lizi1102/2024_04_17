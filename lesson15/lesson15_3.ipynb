{
 "cells": [
  {
   "cell_type": "code",
   "execution_count": 1,
   "metadata": {},
   "outputs": [
    {
     "name": "stdout",
     "output_type": "stream",
     "text": [
      "144\n",
      "===============\n",
      "170\n",
      "===============\n",
      "164\n",
      "===============\n",
      "167\n",
      "===============\n",
      "177\n",
      "===============\n"
     ]
    }
   ],
   "source": [
    "student1 = [69, 78, 72, 91, 85]\n",
    "student2 = [75, 92, 92, 76, 92]\n",
    "\n",
    "for i in range(len(student1)):\n",
    "    scores = student1[i] + student2[i]\n",
    "    print(scores)\n",
    "    print(\"===============\")"
   ]
  },
  {
   "cell_type": "code",
   "execution_count": 2,
   "metadata": {},
   "outputs": [],
   "source": [
    "import numpy as np"
   ]
  },
  {
   "cell_type": "code",
   "execution_count": 5,
   "metadata": {},
   "outputs": [
    {
     "name": "stdout",
     "output_type": "stream",
     "text": [
      "144\n",
      "=======\n",
      "170\n",
      "=======\n",
      "164\n",
      "=======\n",
      "167\n",
      "=======\n",
      "167\n",
      "=======\n"
     ]
    }
   ],
   "source": [
    "import numpy as np\n",
    "from numpy import ndarray\n",
    "student1:ndarray = np.array([69,78,72,91,75])\n",
    "student2:ndarray = np.array([75,92,92,76,92])\n",
    "\n",
    "#可以做陣列運算,不須使用for...in\n",
    "totols:ndarray= student1 + student2\n",
    "for totol in totols:\n",
    "    print(totol)\n",
    "    print('=======')"
   ]
  },
  {
   "cell_type": "code",
   "execution_count": 9,
   "metadata": {},
   "outputs": [
    {
     "name": "stdout",
     "output_type": "stream",
     "text": [
      "[[1 2 3]\n",
      " [4 5 6]]\n",
      "2\n",
      "(2, 3)\n",
      "6\n",
      "int64\n"
     ]
    }
   ],
   "source": [
    "array:ndarray = np.array([[1,2,3],[4,5,6]])\n",
    "print(array)\n",
    "#property\n",
    "#ndim,shape,size,dtype\n",
    "\n",
    "print(array.ndim)\n",
    "print(array.shape)\n",
    "print(array.size)\n",
    "print(array.dtype)"
   ]
  },
  {
   "cell_type": "code",
   "execution_count": 6,
   "metadata": {},
   "outputs": [
    {
     "data": {
      "text/plain": [
       "array([[ 59,  94,  56,  60,  50],\n",
       "       [ 53,  85,  59,  50,  97],\n",
       "       [ 93,  96,  87,  86,  71],\n",
       "       [ 89,  94,  87,  78,  98],\n",
       "       [ 65,  68,  72,  95,  91],\n",
       "       [ 65,  51,  60,  79,  53],\n",
       "       [ 75,  60,  82,  89,  97],\n",
       "       [ 70,  76,  92,  75,  76],\n",
       "       [ 91,  78,  75,  78,  79],\n",
       "       [ 84,  97,  88,  89,  87],\n",
       "       [ 70,  64,  72,  93,  73],\n",
       "       [ 83,  97,  60,  56,  97],\n",
       "       [ 59,  99,  99,  79,  53],\n",
       "       [ 83,  96,  72,  66,  81],\n",
       "       [ 59,  86,  53,  80,  73],\n",
       "       [ 50,  96,  62,  70,  90],\n",
       "       [ 90, 100,  99,  50,  80],\n",
       "       [ 76,  79,  54,  70, 100],\n",
       "       [ 57,  96,  67,  52,  64],\n",
       "       [ 87,  59,  80,  77,  93],\n",
       "       [ 51, 100,  75,  88,  98],\n",
       "       [ 77,  73,  69,  92,  98],\n",
       "       [ 81,  96,  76,  85,  62],\n",
       "       [ 65,  82,  81,  76,  62],\n",
       "       [ 76,  50,  82,  84,  59],\n",
       "       [ 95,  94,  52, 100,  94],\n",
       "       [ 61,  67,  96,  54,  51],\n",
       "       [ 93,  63,  65,  99,  57],\n",
       "       [ 72,  80,  61,  50,  55],\n",
       "       [ 73,  78,  70,  94,  75],\n",
       "       [ 80,  76,  63,  89,  56],\n",
       "       [ 70,  63,  67, 100,  86],\n",
       "       [ 70,  67,  80,  62,  70],\n",
       "       [ 85,  87,  84,  65,  99],\n",
       "       [ 50,  80,  59, 100,  98],\n",
       "       [ 63,  72,  85,  75,  71],\n",
       "       [ 54,  75,  97,  74,  95],\n",
       "       [ 59,  74,  56,  72,  81],\n",
       "       [ 77,  97, 100,  53,  61],\n",
       "       [ 63,  88,  75,  53,  94],\n",
       "       [ 62,  99,  59,  65,  80],\n",
       "       [ 85,  61,  87,  99,  96],\n",
       "       [ 92,  68,  74,  82,  90],\n",
       "       [ 64,  63,  74,  71,  65],\n",
       "       [ 80,  60,  56,  82,  55],\n",
       "       [ 70,  92,  63,  53,  89],\n",
       "       [ 64,  91,  61,  65,  64],\n",
       "       [ 75,  78,  71,  53,  53],\n",
       "       [ 79,  64,  89,  58,  78],\n",
       "       [ 97,  97,  95,  81,  82]])"
      ]
     },
     "execution_count": 6,
     "metadata": {},
     "output_type": "execute_result"
    }
   ],
   "source": [
    "np.random.randint(50,101,size=(50,5))"
   ]
  }
 ],
 "metadata": {
  "kernelspec": {
   "display_name": "Python 3",
   "language": "python",
   "name": "python3"
  },
  "language_info": {
   "codemirror_mode": {
    "name": "ipython",
    "version": 3
   },
   "file_extension": ".py",
   "mimetype": "text/x-python",
   "name": "python",
   "nbconvert_exporter": "python",
   "pygments_lexer": "ipython3",
   "version": "3.10.14"
  }
 },
 "nbformat": 4,
 "nbformat_minor": 2
}
