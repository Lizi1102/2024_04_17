{
 "cells": [
  {
   "cell_type": "markdown",
   "metadata": {},
   "source": [
    "## 輸出 -> print()\n",
    "## 輸入 <- input()"
   ]
  },
  {
   "cell_type": "code",
   "execution_count": 1,
   "metadata": {},
   "outputs": [
    {
     "data": {
      "text/plain": [
       "'15.2'"
      ]
     },
     "execution_count": 1,
     "metadata": {},
     "output_type": "execute_result"
    }
   ],
   "source": [
    "input(\"請輸入矩形寬:\")"
   ]
  },
  {
   "cell_type": "code",
   "execution_count": 8,
   "metadata": {},
   "outputs": [
    {
     "data": {
      "text/plain": [
       "str"
      ]
     },
     "execution_count": 8,
     "metadata": {},
     "output_type": "execute_result"
    }
   ],
   "source": [
    "width = input('請輸入矩形寬')\n",
    "type(width)"
   ]
  },
  {
   "cell_type": "code",
   "execution_count": 6,
   "metadata": {},
   "outputs": [
    {
     "name": "stdout",
     "output_type": "stream",
     "text": [
      "寬:11.0公分,高:12.0公分,面積132.0平方公分\n"
     ]
    }
   ],
   "source": [
    "width:float = float(input('請輸入矩形寬'))\n",
    "height:float = float(input('請輸入矩形高'))\n",
    "area:float = width * height\n",
    "print(f'寬:{width}公分,高:{height}公分,面積{area}平方公分')"
   ]
  },
  {
   "cell_type": "markdown",
   "metadata": {},
   "source": [
    "# 計算圓面積"
   ]
  },
  {
   "cell_type": "code",
   "execution_count": 10,
   "metadata": {},
   "outputs": [
    {
     "name": "stdout",
     "output_type": "stream",
     "text": [
      "計算圓面積\n",
      "圓半徑:5.0,圓面積:78.54\n"
     ]
    }
   ],
   "source": [
    "#計算圓面積\n",
    "print('計算圓面積')\n",
    "radius:float = float(input('請輸入半徑:'))\n",
    "PI = 3.1415926\n",
    "print(f'圓半徑:{radius},圓面積:{PI * radius **2 :.2f}')  #.數字f ->到小數第幾位"
   ]
  },
  {
   "cell_type": "code",
   "execution_count": 14,
   "metadata": {},
   "outputs": [
    {
     "name": "stdout",
     "output_type": "stream",
     "text": [
      "計算圓面積\n",
      "圓半徑:2.0,圓面積:12.5663704\n",
      "圓半徑:2.0,圓面積:12.5663704\n",
      "圓半徑:2.00000,圓面積12.57\n"
     ]
    }
   ],
   "source": [
    "print('計算圓面積')\n",
    "radius:float = float(input('請輸入半徑:'))\n",
    "PI = 3.1415926\n",
    "area:float = PI * radius **2\n",
    "print(f'圓半徑:{radius},圓面積:{PI * radius **2 :}')  \n",
    "print(f'圓半徑:{radius},圓面積:{area}')\n",
    "print(f'圓半徑:{radius:.5f},圓面積{area:.2f}')  #.數字f ->到小數第幾位"
   ]
  },
  {
   "cell_type": "code",
   "execution_count": 20,
   "metadata": {},
   "outputs": [
    {
     "name": "stdout",
     "output_type": "stream",
     "text": [
      "計算圓面積\n",
      "圓半徑:5.0,圓面積:78.53981633974483\n",
      "圓半徑:5.0,圓面積:78.53981633974483\n",
      "圓半徑:5.00000,圓面積78.54\n"
     ]
    }
   ],
   "source": [
    "import math\n",
    "print('計算圓面積')\n",
    "radius:float = float(input('請輸入半徑:'))\n",
    "area:float = math.pi * radius **2\n",
    "print(f'圓半徑:{radius},圓面積:{math.pi * radius **2 :}')  \n",
    "print(f'圓半徑:{radius},圓面積:{area}')\n",
    "print(f'圓半徑:{radius:.5f},圓面積{area:.2f}')"
   ]
  }
 ],
 "metadata": {
  "kernelspec": {
   "display_name": "Python 3",
   "language": "python",
   "name": "python3"
  },
  "language_info": {
   "codemirror_mode": {
    "name": "ipython",
    "version": 3
   },
   "file_extension": ".py",
   "mimetype": "text/x-python",
   "name": "python",
   "nbconvert_exporter": "python",
   "pygments_lexer": "ipython3",
   "version": "3.10.14"
  }
 },
 "nbformat": 4,
 "nbformat_minor": 2
}
